{
 "cells": [
  {
   "cell_type": "markdown",
   "metadata": {},
   "source": [
    "# Explorative Data Analysis of Students Academic Score in three subjects: Math, Reading and Writing"
   ]
  },
  {
   "cell_type": "markdown",
   "metadata": {},
   "source": [
    "The dataset contains the score of students in three subjects (Math, Reading and Writing) together with some other information like gender, ethnic group, parent's level of education etc.\n",
    "\n",
    "Internet Link; https://www.kaggle.com/spscientist/students-performance-in-exams"
   ]
  },
  {
   "cell_type": "markdown",
   "metadata": {},
   "source": [
    "1. Importing Pandas and Numpy Libraries"
   ]
  },
  {
   "cell_type": "code",
   "execution_count": 1,
   "metadata": {},
   "outputs": [],
   "source": [
    "import numpy as np\n",
    "import pandas as pd"
   ]
  },
  {
   "cell_type": "markdown",
   "metadata": {},
   "source": [
    "2. Reading in and checking details of the data"
   ]
  },
  {
   "cell_type": "code",
   "execution_count": 2,
   "metadata": {},
   "outputs": [],
   "source": [
    "students=pd.read_csv(\"StudentsPerformance.csv\")"
   ]
  },
  {
   "cell_type": "code",
   "execution_count": 3,
   "metadata": {},
   "outputs": [
    {
     "data": {
      "text/html": [
       "<div>\n",
       "<style scoped>\n",
       "    .dataframe tbody tr th:only-of-type {\n",
       "        vertical-align: middle;\n",
       "    }\n",
       "\n",
       "    .dataframe tbody tr th {\n",
       "        vertical-align: top;\n",
       "    }\n",
       "\n",
       "    .dataframe thead th {\n",
       "        text-align: right;\n",
       "    }\n",
       "</style>\n",
       "<table border=\"1\" class=\"dataframe\">\n",
       "  <thead>\n",
       "    <tr style=\"text-align: right;\">\n",
       "      <th></th>\n",
       "      <th>gender</th>\n",
       "      <th>race/ethnicity</th>\n",
       "      <th>parental level of education</th>\n",
       "      <th>lunch</th>\n",
       "      <th>test preparation course</th>\n",
       "      <th>math score</th>\n",
       "      <th>reading score</th>\n",
       "      <th>writing score</th>\n",
       "    </tr>\n",
       "  </thead>\n",
       "  <tbody>\n",
       "    <tr>\n",
       "      <th>0</th>\n",
       "      <td>female</td>\n",
       "      <td>group B</td>\n",
       "      <td>bachelor's degree</td>\n",
       "      <td>standard</td>\n",
       "      <td>none</td>\n",
       "      <td>72</td>\n",
       "      <td>72</td>\n",
       "      <td>74</td>\n",
       "    </tr>\n",
       "    <tr>\n",
       "      <th>1</th>\n",
       "      <td>female</td>\n",
       "      <td>group C</td>\n",
       "      <td>some college</td>\n",
       "      <td>standard</td>\n",
       "      <td>completed</td>\n",
       "      <td>69</td>\n",
       "      <td>90</td>\n",
       "      <td>88</td>\n",
       "    </tr>\n",
       "  </tbody>\n",
       "</table>\n",
       "</div>"
      ],
      "text/plain": [
       "   gender race/ethnicity parental level of education     lunch  \\\n",
       "0  female        group B           bachelor's degree  standard   \n",
       "1  female        group C                some college  standard   \n",
       "\n",
       "  test preparation course  math score  reading score  writing score  \n",
       "0                    none          72             72             74  \n",
       "1               completed          69             90             88  "
      ]
     },
     "execution_count": 3,
     "metadata": {},
     "output_type": "execute_result"
    }
   ],
   "source": [
    "students.head(2)"
   ]
  },
  {
   "cell_type": "code",
   "execution_count": 4,
   "metadata": {},
   "outputs": [
    {
     "data": {
      "text/plain": [
       "Index(['gender', 'race/ethnicity', 'parental level of education', 'lunch',\n",
       "       'test preparation course', 'math score', 'reading score',\n",
       "       'writing score'],\n",
       "      dtype='object')"
      ]
     },
     "execution_count": 4,
     "metadata": {},
     "output_type": "execute_result"
    }
   ],
   "source": [
    "students.columns"
   ]
  },
  {
   "cell_type": "code",
   "execution_count": 5,
   "metadata": {},
   "outputs": [
    {
     "name": "stdout",
     "output_type": "stream",
     "text": [
      "gender\n",
      "race/ethnicity\n",
      "parental level of education\n",
      "lunch\n",
      "test preparation course\n",
      "math score\n",
      "reading score\n",
      "writing score\n"
     ]
    }
   ],
   "source": [
    "for y in students.columns:\n",
    "    print (y)"
   ]
  },
  {
   "cell_type": "code",
   "execution_count": 6,
   "metadata": {},
   "outputs": [
    {
     "name": "stdout",
     "output_type": "stream",
     "text": [
      "<class 'pandas.core.frame.DataFrame'>\n",
      "RangeIndex: 1000 entries, 0 to 999\n",
      "Data columns (total 8 columns):\n",
      " #   Column                       Non-Null Count  Dtype \n",
      "---  ------                       --------------  ----- \n",
      " 0   gender                       1000 non-null   object\n",
      " 1   race/ethnicity               1000 non-null   object\n",
      " 2   parental level of education  1000 non-null   object\n",
      " 3   lunch                        1000 non-null   object\n",
      " 4   test preparation course      1000 non-null   object\n",
      " 5   math score                   1000 non-null   int64 \n",
      " 6   reading score                1000 non-null   int64 \n",
      " 7   writing score                1000 non-null   int64 \n",
      "dtypes: int64(3), object(5)\n",
      "memory usage: 62.6+ KB\n"
     ]
    }
   ],
   "source": [
    "students.info()"
   ]
  },
  {
   "cell_type": "code",
   "execution_count": 7,
   "metadata": {},
   "outputs": [
    {
     "data": {
      "text/html": [
       "<div>\n",
       "<style scoped>\n",
       "    .dataframe tbody tr th:only-of-type {\n",
       "        vertical-align: middle;\n",
       "    }\n",
       "\n",
       "    .dataframe tbody tr th {\n",
       "        vertical-align: top;\n",
       "    }\n",
       "\n",
       "    .dataframe thead th {\n",
       "        text-align: right;\n",
       "    }\n",
       "</style>\n",
       "<table border=\"1\" class=\"dataframe\">\n",
       "  <thead>\n",
       "    <tr style=\"text-align: right;\">\n",
       "      <th></th>\n",
       "      <th>math score</th>\n",
       "      <th>reading score</th>\n",
       "      <th>writing score</th>\n",
       "    </tr>\n",
       "  </thead>\n",
       "  <tbody>\n",
       "    <tr>\n",
       "      <th>count</th>\n",
       "      <td>1000.00000</td>\n",
       "      <td>1000.000000</td>\n",
       "      <td>1000.000000</td>\n",
       "    </tr>\n",
       "    <tr>\n",
       "      <th>mean</th>\n",
       "      <td>66.08900</td>\n",
       "      <td>69.169000</td>\n",
       "      <td>68.054000</td>\n",
       "    </tr>\n",
       "    <tr>\n",
       "      <th>std</th>\n",
       "      <td>15.16308</td>\n",
       "      <td>14.600192</td>\n",
       "      <td>15.195657</td>\n",
       "    </tr>\n",
       "    <tr>\n",
       "      <th>min</th>\n",
       "      <td>0.00000</td>\n",
       "      <td>17.000000</td>\n",
       "      <td>10.000000</td>\n",
       "    </tr>\n",
       "    <tr>\n",
       "      <th>25%</th>\n",
       "      <td>57.00000</td>\n",
       "      <td>59.000000</td>\n",
       "      <td>57.750000</td>\n",
       "    </tr>\n",
       "    <tr>\n",
       "      <th>50%</th>\n",
       "      <td>66.00000</td>\n",
       "      <td>70.000000</td>\n",
       "      <td>69.000000</td>\n",
       "    </tr>\n",
       "    <tr>\n",
       "      <th>75%</th>\n",
       "      <td>77.00000</td>\n",
       "      <td>79.000000</td>\n",
       "      <td>79.000000</td>\n",
       "    </tr>\n",
       "    <tr>\n",
       "      <th>max</th>\n",
       "      <td>100.00000</td>\n",
       "      <td>100.000000</td>\n",
       "      <td>100.000000</td>\n",
       "    </tr>\n",
       "  </tbody>\n",
       "</table>\n",
       "</div>"
      ],
      "text/plain": [
       "       math score  reading score  writing score\n",
       "count  1000.00000    1000.000000    1000.000000\n",
       "mean     66.08900      69.169000      68.054000\n",
       "std      15.16308      14.600192      15.195657\n",
       "min       0.00000      17.000000      10.000000\n",
       "25%      57.00000      59.000000      57.750000\n",
       "50%      66.00000      70.000000      69.000000\n",
       "75%      77.00000      79.000000      79.000000\n",
       "max     100.00000     100.000000     100.000000"
      ]
     },
     "execution_count": 7,
     "metadata": {},
     "output_type": "execute_result"
    }
   ],
   "source": [
    "students.describe()"
   ]
  },
  {
   "cell_type": "code",
   "execution_count": 8,
   "metadata": {},
   "outputs": [
    {
     "data": {
      "text/plain": [
       "(1000, 8)"
      ]
     },
     "execution_count": 8,
     "metadata": {},
     "output_type": "execute_result"
    }
   ],
   "source": [
    "students.shape"
   ]
  },
  {
   "cell_type": "code",
   "execution_count": 24,
   "metadata": {},
   "outputs": [
    {
     "data": {
      "text/plain": [
       "8000"
      ]
     },
     "execution_count": 24,
     "metadata": {},
     "output_type": "execute_result"
    }
   ],
   "source": [
    "students.size"
   ]
  },
  {
   "cell_type": "code",
   "execution_count": 9,
   "metadata": {},
   "outputs": [
    {
     "name": "stdout",
     "output_type": "stream",
     "text": [
      "Students from Etnicity group E has the highest average score for all the three subjects: Math, Reading and Writing Score\n"
     ]
    },
    {
     "data": {
      "text/html": [
       "<div>\n",
       "<style scoped>\n",
       "    .dataframe tbody tr th:only-of-type {\n",
       "        vertical-align: middle;\n",
       "    }\n",
       "\n",
       "    .dataframe tbody tr th {\n",
       "        vertical-align: top;\n",
       "    }\n",
       "\n",
       "    .dataframe thead tr th {\n",
       "        text-align: left;\n",
       "    }\n",
       "\n",
       "    .dataframe thead tr:last-of-type th {\n",
       "        text-align: right;\n",
       "    }\n",
       "</style>\n",
       "<table border=\"1\" class=\"dataframe\">\n",
       "  <thead>\n",
       "    <tr>\n",
       "      <th></th>\n",
       "      <th colspan=\"8\" halign=\"left\">math score</th>\n",
       "      <th colspan=\"5\" halign=\"left\">reading score</th>\n",
       "      <th colspan=\"8\" halign=\"left\">writing score</th>\n",
       "    </tr>\n",
       "    <tr>\n",
       "      <th></th>\n",
       "      <th>count</th>\n",
       "      <th>mean</th>\n",
       "      <th>std</th>\n",
       "      <th>min</th>\n",
       "      <th>25%</th>\n",
       "      <th>50%</th>\n",
       "      <th>75%</th>\n",
       "      <th>max</th>\n",
       "      <th>count</th>\n",
       "      <th>mean</th>\n",
       "      <th>...</th>\n",
       "      <th>75%</th>\n",
       "      <th>max</th>\n",
       "      <th>count</th>\n",
       "      <th>mean</th>\n",
       "      <th>std</th>\n",
       "      <th>min</th>\n",
       "      <th>25%</th>\n",
       "      <th>50%</th>\n",
       "      <th>75%</th>\n",
       "      <th>max</th>\n",
       "    </tr>\n",
       "    <tr>\n",
       "      <th>race/ethnicity</th>\n",
       "      <th></th>\n",
       "      <th></th>\n",
       "      <th></th>\n",
       "      <th></th>\n",
       "      <th></th>\n",
       "      <th></th>\n",
       "      <th></th>\n",
       "      <th></th>\n",
       "      <th></th>\n",
       "      <th></th>\n",
       "      <th></th>\n",
       "      <th></th>\n",
       "      <th></th>\n",
       "      <th></th>\n",
       "      <th></th>\n",
       "      <th></th>\n",
       "      <th></th>\n",
       "      <th></th>\n",
       "      <th></th>\n",
       "      <th></th>\n",
       "      <th></th>\n",
       "    </tr>\n",
       "  </thead>\n",
       "  <tbody>\n",
       "    <tr>\n",
       "      <th>group A</th>\n",
       "      <td>89.0</td>\n",
       "      <td>61.629213</td>\n",
       "      <td>14.523008</td>\n",
       "      <td>28.0</td>\n",
       "      <td>51.00</td>\n",
       "      <td>61.0</td>\n",
       "      <td>71.0</td>\n",
       "      <td>100.0</td>\n",
       "      <td>89.0</td>\n",
       "      <td>64.674157</td>\n",
       "      <td>...</td>\n",
       "      <td>74.00</td>\n",
       "      <td>100.0</td>\n",
       "      <td>89.0</td>\n",
       "      <td>62.674157</td>\n",
       "      <td>15.468278</td>\n",
       "      <td>19.0</td>\n",
       "      <td>51.00</td>\n",
       "      <td>62.0</td>\n",
       "      <td>73.00</td>\n",
       "      <td>97.0</td>\n",
       "    </tr>\n",
       "    <tr>\n",
       "      <th>group B</th>\n",
       "      <td>190.0</td>\n",
       "      <td>63.452632</td>\n",
       "      <td>15.468191</td>\n",
       "      <td>8.0</td>\n",
       "      <td>54.00</td>\n",
       "      <td>63.0</td>\n",
       "      <td>74.0</td>\n",
       "      <td>97.0</td>\n",
       "      <td>190.0</td>\n",
       "      <td>67.352632</td>\n",
       "      <td>...</td>\n",
       "      <td>79.75</td>\n",
       "      <td>97.0</td>\n",
       "      <td>190.0</td>\n",
       "      <td>65.600000</td>\n",
       "      <td>15.625173</td>\n",
       "      <td>15.0</td>\n",
       "      <td>55.25</td>\n",
       "      <td>67.0</td>\n",
       "      <td>78.00</td>\n",
       "      <td>96.0</td>\n",
       "    </tr>\n",
       "    <tr>\n",
       "      <th>group C</th>\n",
       "      <td>319.0</td>\n",
       "      <td>64.463950</td>\n",
       "      <td>14.852666</td>\n",
       "      <td>0.0</td>\n",
       "      <td>55.00</td>\n",
       "      <td>65.0</td>\n",
       "      <td>74.0</td>\n",
       "      <td>98.0</td>\n",
       "      <td>319.0</td>\n",
       "      <td>69.103448</td>\n",
       "      <td>...</td>\n",
       "      <td>78.50</td>\n",
       "      <td>100.0</td>\n",
       "      <td>319.0</td>\n",
       "      <td>67.827586</td>\n",
       "      <td>14.983378</td>\n",
       "      <td>10.0</td>\n",
       "      <td>57.00</td>\n",
       "      <td>68.0</td>\n",
       "      <td>79.00</td>\n",
       "      <td>100.0</td>\n",
       "    </tr>\n",
       "    <tr>\n",
       "      <th>group D</th>\n",
       "      <td>262.0</td>\n",
       "      <td>67.362595</td>\n",
       "      <td>13.769386</td>\n",
       "      <td>26.0</td>\n",
       "      <td>59.00</td>\n",
       "      <td>69.0</td>\n",
       "      <td>77.0</td>\n",
       "      <td>100.0</td>\n",
       "      <td>262.0</td>\n",
       "      <td>70.030534</td>\n",
       "      <td>...</td>\n",
       "      <td>79.00</td>\n",
       "      <td>100.0</td>\n",
       "      <td>262.0</td>\n",
       "      <td>70.145038</td>\n",
       "      <td>14.367707</td>\n",
       "      <td>32.0</td>\n",
       "      <td>61.00</td>\n",
       "      <td>72.0</td>\n",
       "      <td>80.00</td>\n",
       "      <td>100.0</td>\n",
       "    </tr>\n",
       "    <tr>\n",
       "      <th>group E</th>\n",
       "      <td>140.0</td>\n",
       "      <td>73.821429</td>\n",
       "      <td>15.534259</td>\n",
       "      <td>30.0</td>\n",
       "      <td>64.75</td>\n",
       "      <td>74.5</td>\n",
       "      <td>85.0</td>\n",
       "      <td>100.0</td>\n",
       "      <td>140.0</td>\n",
       "      <td>73.028571</td>\n",
       "      <td>...</td>\n",
       "      <td>84.00</td>\n",
       "      <td>100.0</td>\n",
       "      <td>140.0</td>\n",
       "      <td>71.407143</td>\n",
       "      <td>15.113906</td>\n",
       "      <td>22.0</td>\n",
       "      <td>62.00</td>\n",
       "      <td>72.0</td>\n",
       "      <td>80.25</td>\n",
       "      <td>100.0</td>\n",
       "    </tr>\n",
       "  </tbody>\n",
       "</table>\n",
       "<p>5 rows × 24 columns</p>\n",
       "</div>"
      ],
      "text/plain": [
       "               math score                                                 \\\n",
       "                    count       mean        std   min    25%   50%   75%   \n",
       "race/ethnicity                                                             \n",
       "group A              89.0  61.629213  14.523008  28.0  51.00  61.0  71.0   \n",
       "group B             190.0  63.452632  15.468191   8.0  54.00  63.0  74.0   \n",
       "group C             319.0  64.463950  14.852666   0.0  55.00  65.0  74.0   \n",
       "group D             262.0  67.362595  13.769386  26.0  59.00  69.0  77.0   \n",
       "group E             140.0  73.821429  15.534259  30.0  64.75  74.5  85.0   \n",
       "\n",
       "                      reading score             ...                \\\n",
       "                  max         count       mean  ...    75%    max   \n",
       "race/ethnicity                                  ...                 \n",
       "group A         100.0          89.0  64.674157  ...  74.00  100.0   \n",
       "group B          97.0         190.0  67.352632  ...  79.75   97.0   \n",
       "group C          98.0         319.0  69.103448  ...  78.50  100.0   \n",
       "group D         100.0         262.0  70.030534  ...  79.00  100.0   \n",
       "group E         100.0         140.0  73.028571  ...  84.00  100.0   \n",
       "\n",
       "               writing score                                                  \\\n",
       "                       count       mean        std   min    25%   50%    75%   \n",
       "race/ethnicity                                                                 \n",
       "group A                 89.0  62.674157  15.468278  19.0  51.00  62.0  73.00   \n",
       "group B                190.0  65.600000  15.625173  15.0  55.25  67.0  78.00   \n",
       "group C                319.0  67.827586  14.983378  10.0  57.00  68.0  79.00   \n",
       "group D                262.0  70.145038  14.367707  32.0  61.00  72.0  80.00   \n",
       "group E                140.0  71.407143  15.113906  22.0  62.00  72.0  80.25   \n",
       "\n",
       "                       \n",
       "                  max  \n",
       "race/ethnicity         \n",
       "group A          97.0  \n",
       "group B          96.0  \n",
       "group C         100.0  \n",
       "group D         100.0  \n",
       "group E         100.0  \n",
       "\n",
       "[5 rows x 24 columns]"
      ]
     },
     "execution_count": 9,
     "metadata": {},
     "output_type": "execute_result"
    }
   ],
   "source": [
    "print(\"Students from Etnicity group E has the highest average score for all the three subjects: Math, Reading and Writing Score\")\n",
    "students.groupby(\"race/ethnicity\").describe()"
   ]
  },
  {
   "cell_type": "code",
   "execution_count": 10,
   "metadata": {},
   "outputs": [
    {
     "name": "stdout",
     "output_type": "stream",
     "text": [
      "Overall students with parents having M.Sc degrees have the highest averages score for all the three subjects: Math, Reading and Writing Score\n"
     ]
    },
    {
     "data": {
      "text/html": [
       "<div>\n",
       "<style scoped>\n",
       "    .dataframe tbody tr th:only-of-type {\n",
       "        vertical-align: middle;\n",
       "    }\n",
       "\n",
       "    .dataframe tbody tr th {\n",
       "        vertical-align: top;\n",
       "    }\n",
       "\n",
       "    .dataframe thead tr th {\n",
       "        text-align: left;\n",
       "    }\n",
       "\n",
       "    .dataframe thead tr:last-of-type th {\n",
       "        text-align: right;\n",
       "    }\n",
       "</style>\n",
       "<table border=\"1\" class=\"dataframe\">\n",
       "  <thead>\n",
       "    <tr>\n",
       "      <th></th>\n",
       "      <th colspan=\"8\" halign=\"left\">math score</th>\n",
       "      <th colspan=\"5\" halign=\"left\">reading score</th>\n",
       "      <th colspan=\"8\" halign=\"left\">writing score</th>\n",
       "    </tr>\n",
       "    <tr>\n",
       "      <th></th>\n",
       "      <th>count</th>\n",
       "      <th>mean</th>\n",
       "      <th>std</th>\n",
       "      <th>min</th>\n",
       "      <th>25%</th>\n",
       "      <th>50%</th>\n",
       "      <th>75%</th>\n",
       "      <th>max</th>\n",
       "      <th>count</th>\n",
       "      <th>mean</th>\n",
       "      <th>...</th>\n",
       "      <th>75%</th>\n",
       "      <th>max</th>\n",
       "      <th>count</th>\n",
       "      <th>mean</th>\n",
       "      <th>std</th>\n",
       "      <th>min</th>\n",
       "      <th>25%</th>\n",
       "      <th>50%</th>\n",
       "      <th>75%</th>\n",
       "      <th>max</th>\n",
       "    </tr>\n",
       "    <tr>\n",
       "      <th>parental level of education</th>\n",
       "      <th></th>\n",
       "      <th></th>\n",
       "      <th></th>\n",
       "      <th></th>\n",
       "      <th></th>\n",
       "      <th></th>\n",
       "      <th></th>\n",
       "      <th></th>\n",
       "      <th></th>\n",
       "      <th></th>\n",
       "      <th></th>\n",
       "      <th></th>\n",
       "      <th></th>\n",
       "      <th></th>\n",
       "      <th></th>\n",
       "      <th></th>\n",
       "      <th></th>\n",
       "      <th></th>\n",
       "      <th></th>\n",
       "      <th></th>\n",
       "      <th></th>\n",
       "    </tr>\n",
       "  </thead>\n",
       "  <tbody>\n",
       "    <tr>\n",
       "      <th>associate's degree</th>\n",
       "      <td>222.0</td>\n",
       "      <td>67.882883</td>\n",
       "      <td>15.112093</td>\n",
       "      <td>26.0</td>\n",
       "      <td>57.00</td>\n",
       "      <td>67.0</td>\n",
       "      <td>80.0</td>\n",
       "      <td>100.0</td>\n",
       "      <td>222.0</td>\n",
       "      <td>70.927928</td>\n",
       "      <td>...</td>\n",
       "      <td>81.00</td>\n",
       "      <td>100.0</td>\n",
       "      <td>222.0</td>\n",
       "      <td>69.896396</td>\n",
       "      <td>14.311122</td>\n",
       "      <td>35.0</td>\n",
       "      <td>58.0</td>\n",
       "      <td>70.5</td>\n",
       "      <td>80.0</td>\n",
       "      <td>100.0</td>\n",
       "    </tr>\n",
       "    <tr>\n",
       "      <th>bachelor's degree</th>\n",
       "      <td>118.0</td>\n",
       "      <td>69.389831</td>\n",
       "      <td>14.943789</td>\n",
       "      <td>29.0</td>\n",
       "      <td>61.00</td>\n",
       "      <td>68.0</td>\n",
       "      <td>79.0</td>\n",
       "      <td>100.0</td>\n",
       "      <td>118.0</td>\n",
       "      <td>73.000000</td>\n",
       "      <td>...</td>\n",
       "      <td>82.75</td>\n",
       "      <td>100.0</td>\n",
       "      <td>118.0</td>\n",
       "      <td>73.381356</td>\n",
       "      <td>14.728262</td>\n",
       "      <td>38.0</td>\n",
       "      <td>62.5</td>\n",
       "      <td>74.0</td>\n",
       "      <td>83.0</td>\n",
       "      <td>100.0</td>\n",
       "    </tr>\n",
       "    <tr>\n",
       "      <th>high school</th>\n",
       "      <td>196.0</td>\n",
       "      <td>62.137755</td>\n",
       "      <td>14.539651</td>\n",
       "      <td>8.0</td>\n",
       "      <td>53.75</td>\n",
       "      <td>63.0</td>\n",
       "      <td>72.0</td>\n",
       "      <td>99.0</td>\n",
       "      <td>196.0</td>\n",
       "      <td>64.704082</td>\n",
       "      <td>...</td>\n",
       "      <td>74.25</td>\n",
       "      <td>99.0</td>\n",
       "      <td>196.0</td>\n",
       "      <td>62.448980</td>\n",
       "      <td>14.085907</td>\n",
       "      <td>15.0</td>\n",
       "      <td>52.0</td>\n",
       "      <td>64.0</td>\n",
       "      <td>73.0</td>\n",
       "      <td>100.0</td>\n",
       "    </tr>\n",
       "    <tr>\n",
       "      <th>master's degree</th>\n",
       "      <td>59.0</td>\n",
       "      <td>69.745763</td>\n",
       "      <td>15.153915</td>\n",
       "      <td>40.0</td>\n",
       "      <td>55.50</td>\n",
       "      <td>73.0</td>\n",
       "      <td>81.0</td>\n",
       "      <td>95.0</td>\n",
       "      <td>59.0</td>\n",
       "      <td>75.372881</td>\n",
       "      <td>...</td>\n",
       "      <td>84.50</td>\n",
       "      <td>100.0</td>\n",
       "      <td>59.0</td>\n",
       "      <td>75.677966</td>\n",
       "      <td>13.730711</td>\n",
       "      <td>46.0</td>\n",
       "      <td>67.0</td>\n",
       "      <td>75.0</td>\n",
       "      <td>85.0</td>\n",
       "      <td>100.0</td>\n",
       "    </tr>\n",
       "    <tr>\n",
       "      <th>some college</th>\n",
       "      <td>226.0</td>\n",
       "      <td>67.128319</td>\n",
       "      <td>14.312897</td>\n",
       "      <td>19.0</td>\n",
       "      <td>59.00</td>\n",
       "      <td>67.5</td>\n",
       "      <td>76.0</td>\n",
       "      <td>100.0</td>\n",
       "      <td>226.0</td>\n",
       "      <td>69.460177</td>\n",
       "      <td>...</td>\n",
       "      <td>79.75</td>\n",
       "      <td>100.0</td>\n",
       "      <td>226.0</td>\n",
       "      <td>68.840708</td>\n",
       "      <td>15.012331</td>\n",
       "      <td>19.0</td>\n",
       "      <td>60.0</td>\n",
       "      <td>70.0</td>\n",
       "      <td>79.0</td>\n",
       "      <td>99.0</td>\n",
       "    </tr>\n",
       "    <tr>\n",
       "      <th>some high school</th>\n",
       "      <td>179.0</td>\n",
       "      <td>63.497207</td>\n",
       "      <td>15.927989</td>\n",
       "      <td>0.0</td>\n",
       "      <td>53.00</td>\n",
       "      <td>65.0</td>\n",
       "      <td>74.0</td>\n",
       "      <td>97.0</td>\n",
       "      <td>179.0</td>\n",
       "      <td>66.938547</td>\n",
       "      <td>...</td>\n",
       "      <td>79.00</td>\n",
       "      <td>100.0</td>\n",
       "      <td>179.0</td>\n",
       "      <td>64.888268</td>\n",
       "      <td>15.736197</td>\n",
       "      <td>10.0</td>\n",
       "      <td>54.0</td>\n",
       "      <td>66.0</td>\n",
       "      <td>77.0</td>\n",
       "      <td>100.0</td>\n",
       "    </tr>\n",
       "  </tbody>\n",
       "</table>\n",
       "<p>6 rows × 24 columns</p>\n",
       "</div>"
      ],
      "text/plain": [
       "                            math score                                     \\\n",
       "                                 count       mean        std   min    25%   \n",
       "parental level of education                                                 \n",
       "associate's degree               222.0  67.882883  15.112093  26.0  57.00   \n",
       "bachelor's degree                118.0  69.389831  14.943789  29.0  61.00   \n",
       "high school                      196.0  62.137755  14.539651   8.0  53.75   \n",
       "master's degree                   59.0  69.745763  15.153915  40.0  55.50   \n",
       "some college                     226.0  67.128319  14.312897  19.0  59.00   \n",
       "some high school                 179.0  63.497207  15.927989   0.0  53.00   \n",
       "\n",
       "                                               reading score             ...  \\\n",
       "                              50%   75%    max         count       mean  ...   \n",
       "parental level of education                                              ...   \n",
       "associate's degree           67.0  80.0  100.0         222.0  70.927928  ...   \n",
       "bachelor's degree            68.0  79.0  100.0         118.0  73.000000  ...   \n",
       "high school                  63.0  72.0   99.0         196.0  64.704082  ...   \n",
       "master's degree              73.0  81.0   95.0          59.0  75.372881  ...   \n",
       "some college                 67.5  76.0  100.0         226.0  69.460177  ...   \n",
       "some high school             65.0  74.0   97.0         179.0  66.938547  ...   \n",
       "\n",
       "                                          writing score                        \\\n",
       "                               75%    max         count       mean        std   \n",
       "parental level of education                                                     \n",
       "associate's degree           81.00  100.0         222.0  69.896396  14.311122   \n",
       "bachelor's degree            82.75  100.0         118.0  73.381356  14.728262   \n",
       "high school                  74.25   99.0         196.0  62.448980  14.085907   \n",
       "master's degree              84.50  100.0          59.0  75.677966  13.730711   \n",
       "some college                 79.75  100.0         226.0  68.840708  15.012331   \n",
       "some high school             79.00  100.0         179.0  64.888268  15.736197   \n",
       "\n",
       "                                                            \n",
       "                              min   25%   50%   75%    max  \n",
       "parental level of education                                 \n",
       "associate's degree           35.0  58.0  70.5  80.0  100.0  \n",
       "bachelor's degree            38.0  62.5  74.0  83.0  100.0  \n",
       "high school                  15.0  52.0  64.0  73.0  100.0  \n",
       "master's degree              46.0  67.0  75.0  85.0  100.0  \n",
       "some college                 19.0  60.0  70.0  79.0   99.0  \n",
       "some high school             10.0  54.0  66.0  77.0  100.0  \n",
       "\n",
       "[6 rows x 24 columns]"
      ]
     },
     "execution_count": 10,
     "metadata": {},
     "output_type": "execute_result"
    }
   ],
   "source": [
    "print (\"Overall students with parents having M.Sc degrees have the highest averages score for all the three subjects: Math, Reading and Writing Score\")\n",
    "students.groupby(\"parental level of education\").describe()"
   ]
  },
  {
   "cell_type": "code",
   "execution_count": 11,
   "metadata": {},
   "outputs": [
    {
     "name": "stdout",
     "output_type": "stream",
     "text": [
      "Females score higher averages in Reading and Writing with than the males who score better in Math\n"
     ]
    },
    {
     "data": {
      "text/html": [
       "<div>\n",
       "<style scoped>\n",
       "    .dataframe tbody tr th:only-of-type {\n",
       "        vertical-align: middle;\n",
       "    }\n",
       "\n",
       "    .dataframe tbody tr th {\n",
       "        vertical-align: top;\n",
       "    }\n",
       "\n",
       "    .dataframe thead tr th {\n",
       "        text-align: left;\n",
       "    }\n",
       "\n",
       "    .dataframe thead tr:last-of-type th {\n",
       "        text-align: right;\n",
       "    }\n",
       "</style>\n",
       "<table border=\"1\" class=\"dataframe\">\n",
       "  <thead>\n",
       "    <tr>\n",
       "      <th></th>\n",
       "      <th colspan=\"8\" halign=\"left\">math score</th>\n",
       "      <th colspan=\"5\" halign=\"left\">reading score</th>\n",
       "      <th colspan=\"8\" halign=\"left\">writing score</th>\n",
       "    </tr>\n",
       "    <tr>\n",
       "      <th></th>\n",
       "      <th>count</th>\n",
       "      <th>mean</th>\n",
       "      <th>std</th>\n",
       "      <th>min</th>\n",
       "      <th>25%</th>\n",
       "      <th>50%</th>\n",
       "      <th>75%</th>\n",
       "      <th>max</th>\n",
       "      <th>count</th>\n",
       "      <th>mean</th>\n",
       "      <th>...</th>\n",
       "      <th>75%</th>\n",
       "      <th>max</th>\n",
       "      <th>count</th>\n",
       "      <th>mean</th>\n",
       "      <th>std</th>\n",
       "      <th>min</th>\n",
       "      <th>25%</th>\n",
       "      <th>50%</th>\n",
       "      <th>75%</th>\n",
       "      <th>max</th>\n",
       "    </tr>\n",
       "    <tr>\n",
       "      <th>gender</th>\n",
       "      <th></th>\n",
       "      <th></th>\n",
       "      <th></th>\n",
       "      <th></th>\n",
       "      <th></th>\n",
       "      <th></th>\n",
       "      <th></th>\n",
       "      <th></th>\n",
       "      <th></th>\n",
       "      <th></th>\n",
       "      <th></th>\n",
       "      <th></th>\n",
       "      <th></th>\n",
       "      <th></th>\n",
       "      <th></th>\n",
       "      <th></th>\n",
       "      <th></th>\n",
       "      <th></th>\n",
       "      <th></th>\n",
       "      <th></th>\n",
       "      <th></th>\n",
       "    </tr>\n",
       "  </thead>\n",
       "  <tbody>\n",
       "    <tr>\n",
       "      <th>female</th>\n",
       "      <td>518.0</td>\n",
       "      <td>63.633205</td>\n",
       "      <td>15.491453</td>\n",
       "      <td>0.0</td>\n",
       "      <td>54.0</td>\n",
       "      <td>65.0</td>\n",
       "      <td>74.0</td>\n",
       "      <td>100.0</td>\n",
       "      <td>518.0</td>\n",
       "      <td>72.608108</td>\n",
       "      <td>...</td>\n",
       "      <td>83.0</td>\n",
       "      <td>100.0</td>\n",
       "      <td>518.0</td>\n",
       "      <td>72.467181</td>\n",
       "      <td>14.844842</td>\n",
       "      <td>10.0</td>\n",
       "      <td>64.0</td>\n",
       "      <td>74.0</td>\n",
       "      <td>82.00</td>\n",
       "      <td>100.0</td>\n",
       "    </tr>\n",
       "    <tr>\n",
       "      <th>male</th>\n",
       "      <td>482.0</td>\n",
       "      <td>68.728216</td>\n",
       "      <td>14.356277</td>\n",
       "      <td>27.0</td>\n",
       "      <td>59.0</td>\n",
       "      <td>69.0</td>\n",
       "      <td>79.0</td>\n",
       "      <td>100.0</td>\n",
       "      <td>482.0</td>\n",
       "      <td>65.473029</td>\n",
       "      <td>...</td>\n",
       "      <td>75.0</td>\n",
       "      <td>100.0</td>\n",
       "      <td>482.0</td>\n",
       "      <td>63.311203</td>\n",
       "      <td>14.113832</td>\n",
       "      <td>15.0</td>\n",
       "      <td>53.0</td>\n",
       "      <td>64.0</td>\n",
       "      <td>73.75</td>\n",
       "      <td>100.0</td>\n",
       "    </tr>\n",
       "  </tbody>\n",
       "</table>\n",
       "<p>2 rows × 24 columns</p>\n",
       "</div>"
      ],
      "text/plain": [
       "       math score                                                       \\\n",
       "            count       mean        std   min   25%   50%   75%    max   \n",
       "gender                                                                   \n",
       "female      518.0  63.633205  15.491453   0.0  54.0  65.0  74.0  100.0   \n",
       "male        482.0  68.728216  14.356277  27.0  59.0  69.0  79.0  100.0   \n",
       "\n",
       "       reading score             ...              writing score             \\\n",
       "               count       mean  ...   75%    max         count       mean   \n",
       "gender                           ...                                         \n",
       "female         518.0  72.608108  ...  83.0  100.0         518.0  72.467181   \n",
       "male           482.0  65.473029  ...  75.0  100.0         482.0  63.311203   \n",
       "\n",
       "                                                   \n",
       "              std   min   25%   50%    75%    max  \n",
       "gender                                             \n",
       "female  14.844842  10.0  64.0  74.0  82.00  100.0  \n",
       "male    14.113832  15.0  53.0  64.0  73.75  100.0  \n",
       "\n",
       "[2 rows x 24 columns]"
      ]
     },
     "execution_count": 11,
     "metadata": {},
     "output_type": "execute_result"
    }
   ],
   "source": [
    "print(\"Females score higher averages in Reading and Writing with than the males who score better in Math\")\n",
    "students.groupby(\"gender\", axis=0).describe()"
   ]
  },
  {
   "cell_type": "code",
   "execution_count": 12,
   "metadata": {},
   "outputs": [
    {
     "name": "stdout",
     "output_type": "stream",
     "text": [
      "Students with standard meals have the highest averages across the three subjects: Math, Reading and Writing score.\n"
     ]
    },
    {
     "data": {
      "text/html": [
       "<div>\n",
       "<style scoped>\n",
       "    .dataframe tbody tr th:only-of-type {\n",
       "        vertical-align: middle;\n",
       "    }\n",
       "\n",
       "    .dataframe tbody tr th {\n",
       "        vertical-align: top;\n",
       "    }\n",
       "\n",
       "    .dataframe thead tr th {\n",
       "        text-align: left;\n",
       "    }\n",
       "\n",
       "    .dataframe thead tr:last-of-type th {\n",
       "        text-align: right;\n",
       "    }\n",
       "</style>\n",
       "<table border=\"1\" class=\"dataframe\">\n",
       "  <thead>\n",
       "    <tr>\n",
       "      <th></th>\n",
       "      <th colspan=\"8\" halign=\"left\">math score</th>\n",
       "      <th colspan=\"5\" halign=\"left\">reading score</th>\n",
       "      <th colspan=\"8\" halign=\"left\">writing score</th>\n",
       "    </tr>\n",
       "    <tr>\n",
       "      <th></th>\n",
       "      <th>count</th>\n",
       "      <th>mean</th>\n",
       "      <th>std</th>\n",
       "      <th>min</th>\n",
       "      <th>25%</th>\n",
       "      <th>50%</th>\n",
       "      <th>75%</th>\n",
       "      <th>max</th>\n",
       "      <th>count</th>\n",
       "      <th>mean</th>\n",
       "      <th>...</th>\n",
       "      <th>75%</th>\n",
       "      <th>max</th>\n",
       "      <th>count</th>\n",
       "      <th>mean</th>\n",
       "      <th>std</th>\n",
       "      <th>min</th>\n",
       "      <th>25%</th>\n",
       "      <th>50%</th>\n",
       "      <th>75%</th>\n",
       "      <th>max</th>\n",
       "    </tr>\n",
       "    <tr>\n",
       "      <th>lunch</th>\n",
       "      <th></th>\n",
       "      <th></th>\n",
       "      <th></th>\n",
       "      <th></th>\n",
       "      <th></th>\n",
       "      <th></th>\n",
       "      <th></th>\n",
       "      <th></th>\n",
       "      <th></th>\n",
       "      <th></th>\n",
       "      <th></th>\n",
       "      <th></th>\n",
       "      <th></th>\n",
       "      <th></th>\n",
       "      <th></th>\n",
       "      <th></th>\n",
       "      <th></th>\n",
       "      <th></th>\n",
       "      <th></th>\n",
       "      <th></th>\n",
       "      <th></th>\n",
       "    </tr>\n",
       "  </thead>\n",
       "  <tbody>\n",
       "    <tr>\n",
       "      <th>free/reduced</th>\n",
       "      <td>355.0</td>\n",
       "      <td>58.921127</td>\n",
       "      <td>15.159956</td>\n",
       "      <td>0.0</td>\n",
       "      <td>49.0</td>\n",
       "      <td>60.0</td>\n",
       "      <td>69.0</td>\n",
       "      <td>100.0</td>\n",
       "      <td>355.0</td>\n",
       "      <td>64.653521</td>\n",
       "      <td>...</td>\n",
       "      <td>75.0</td>\n",
       "      <td>100.0</td>\n",
       "      <td>355.0</td>\n",
       "      <td>63.022535</td>\n",
       "      <td>15.433823</td>\n",
       "      <td>10.0</td>\n",
       "      <td>53.0</td>\n",
       "      <td>64.0</td>\n",
       "      <td>74.0</td>\n",
       "      <td>100.0</td>\n",
       "    </tr>\n",
       "    <tr>\n",
       "      <th>standard</th>\n",
       "      <td>645.0</td>\n",
       "      <td>70.034109</td>\n",
       "      <td>13.653501</td>\n",
       "      <td>19.0</td>\n",
       "      <td>61.0</td>\n",
       "      <td>69.0</td>\n",
       "      <td>80.0</td>\n",
       "      <td>100.0</td>\n",
       "      <td>645.0</td>\n",
       "      <td>71.654264</td>\n",
       "      <td>...</td>\n",
       "      <td>82.0</td>\n",
       "      <td>100.0</td>\n",
       "      <td>645.0</td>\n",
       "      <td>70.823256</td>\n",
       "      <td>14.339487</td>\n",
       "      <td>22.0</td>\n",
       "      <td>62.0</td>\n",
       "      <td>72.0</td>\n",
       "      <td>81.0</td>\n",
       "      <td>100.0</td>\n",
       "    </tr>\n",
       "  </tbody>\n",
       "</table>\n",
       "<p>2 rows × 24 columns</p>\n",
       "</div>"
      ],
      "text/plain": [
       "             math score                                                       \\\n",
       "                  count       mean        std   min   25%   50%   75%    max   \n",
       "lunch                                                                          \n",
       "free/reduced      355.0  58.921127  15.159956   0.0  49.0  60.0  69.0  100.0   \n",
       "standard          645.0  70.034109  13.653501  19.0  61.0  69.0  80.0  100.0   \n",
       "\n",
       "             reading score             ...              writing score  \\\n",
       "                     count       mean  ...   75%    max         count   \n",
       "lunch                                  ...                              \n",
       "free/reduced         355.0  64.653521  ...  75.0  100.0         355.0   \n",
       "standard             645.0  71.654264  ...  82.0  100.0         645.0   \n",
       "\n",
       "                                                                   \n",
       "                   mean        std   min   25%   50%   75%    max  \n",
       "lunch                                                              \n",
       "free/reduced  63.022535  15.433823  10.0  53.0  64.0  74.0  100.0  \n",
       "standard      70.823256  14.339487  22.0  62.0  72.0  81.0  100.0  \n",
       "\n",
       "[2 rows x 24 columns]"
      ]
     },
     "execution_count": 12,
     "metadata": {},
     "output_type": "execute_result"
    }
   ],
   "source": [
    "print(\"Students with standard meals have the highest averages across the three subjects: Math, Reading and Writing score.\")\n",
    "students.groupby(\"lunch\").describe()"
   ]
  },
  {
   "cell_type": "markdown",
   "metadata": {},
   "source": [
    "3. Importing visualization libraries: Seaborn and Matplotlib"
   ]
  },
  {
   "cell_type": "code",
   "execution_count": 13,
   "metadata": {},
   "outputs": [],
   "source": [
    "import seaborn as sns\n",
    "import matplotlib.pyplot as plt\n",
    "%matplotlib inline"
   ]
  },
  {
   "cell_type": "code",
   "execution_count": 14,
   "metadata": {},
   "outputs": [
    {
     "name": "stdout",
     "output_type": "stream",
     "text": [
      "All visualizations at a glance.\n"
     ]
    },
    {
     "data": {
      "text/plain": [
       "<seaborn.axisgrid.PairGrid at 0x22375b22c48>"
      ]
     },
     "execution_count": 14,
     "metadata": {},
     "output_type": "execute_result"
    },
    {
     "data": {
      "image/png": "[encoded data removed]",
      "text/plain": [
       "<Figure size 610.5x540 with 12 Axes>"
      ]
     },
     "metadata": {
      "needs_background": "light"
     },
     "output_type": "display_data"
    }
   ],
   "source": [
    "print(\"All visualizations at a glance.\")\n",
    "sns.pairplot(data=students,hue='gender')"
   ]
  },
  {
   "cell_type": "code",
   "execution_count": 15,
   "metadata": {},
   "outputs": [
    {
     "name": "stdout",
     "output_type": "stream",
     "text": [
      "Group C race has the highest number of students in the dataset\n"
     ]
    },
    {
     "data": {
      "text/plain": [
       "<matplotlib.axes._subplots.AxesSubplot at 0x223769d0c08>"
      ]
     },
     "execution_count": 15,
     "metadata": {},
     "output_type": "execute_result"
    },
    {
     "data": {
      "image/png": "[encoded data removed]",
      "text/plain": [
       "<Figure size 800x600 with 1 Axes>"
      ]
     },
     "metadata": {
      "needs_background": "light"
     },
     "output_type": "display_data"
    }
   ],
   "source": [
    "print (\"Group C race has the highest number of students in the dataset\")\n",
    "plt.figure(figsize=(8,6), dpi=100)\n",
    "plt.title(\"Count of each group of students in the dataset\")\n",
    "sns.set_style(\"darkgrid\")\n",
    "sns.countplot(students[\"race/ethnicity\"],color=\"Blue\", saturation=0.1)"
   ]
  },
  {
   "cell_type": "code",
   "execution_count": 16,
   "metadata": {},
   "outputs": [
    {
     "name": "stdout",
     "output_type": "stream",
     "text": [
      "Female students are slightly above the male students\n"
     ]
    },
    {
     "data": {
      "text/plain": [
       "<matplotlib.axes._subplots.AxesSubplot at 0x22376b9a1c8>"
      ]
     },
     "execution_count": 16,
     "metadata": {},
     "output_type": "execute_result"
    },
    {
     "data": {
      "image/png": "[encoded data removed]",
      "text/plain": [
       "<Figure size 432x288 with 1 Axes>"
      ]
     },
     "metadata": {},
     "output_type": "display_data"
    }
   ],
   "source": [
    "print(\"Female students are slightly above the male students\")\n",
    "plt.title(\"Gender Count\")\n",
    "sns.countplot(students[\"gender\"])"
   ]
  },
  {
   "cell_type": "code",
   "execution_count": 17,
   "metadata": {},
   "outputs": [
    {
     "name": "stdout",
     "output_type": "stream",
     "text": [
      "Parents with masters degree lowest in the dataset\n"
     ]
    },
    {
     "data": {
      "text/plain": [
       "<matplotlib.axes._subplots.AxesSubplot at 0x22376dbb188>"
      ]
     },
     "execution_count": 17,
     "metadata": {},
     "output_type": "execute_result"
    },
    {
     "data": {
      "image/png": "[encoded data removed]",
      "text/plain": [
       "<Figure size 800x400 with 1 Axes>"
      ]
     },
     "metadata": {},
     "output_type": "display_data"
    }
   ],
   "source": [
    "print(\"Parents with masters degree lowest in the dataset\")\n",
    "plt.figure(figsize=(8,4),dpi=100)\n",
    "plt.title(\"Parents Level of Education\")\n",
    "sns.countplot(students[\"parental level of education\"], color=\"Blue\", saturation=0.1)"
   ]
  },
  {
   "cell_type": "code",
   "execution_count": 18,
   "metadata": {},
   "outputs": [
    {
     "name": "stdout",
     "output_type": "stream",
     "text": [
      "More standard lunch, almost twice that of free reduced\n"
     ]
    },
    {
     "data": {
      "text/plain": [
       "<matplotlib.axes._subplots.AxesSubplot at 0x22376c1a6c8>"
      ]
     },
     "execution_count": 18,
     "metadata": {},
     "output_type": "execute_result"
    },
    {
     "data": {
      "image/png": "[encoded data removed]",
      "text/plain": [
       "<Figure size 800x400 with 1 Axes>"
      ]
     },
     "metadata": {},
     "output_type": "display_data"
    }
   ],
   "source": [
    "print(\"More standard lunch, almost twice that of free reduced\")\n",
    "plt.figure(figsize=(8,4), dpi=100)\n",
    "plt.title(\"Count of Lunch Type\")\n",
    "sns.countplot(students[\"lunch\"])"
   ]
  },
  {
   "cell_type": "code",
   "execution_count": 19,
   "metadata": {},
   "outputs": [
    {
     "name": "stdout",
     "output_type": "stream",
     "text": [
      "Only 30% of the students completed the test preparation course\n"
     ]
    },
    {
     "data": {
      "text/plain": [
       "<matplotlib.axes._subplots.AxesSubplot at 0x223770a8e08>"
      ]
     },
     "execution_count": 19,
     "metadata": {},
     "output_type": "execute_result"
    },
    {
     "data": {
      "image/png": "[encoded data removed]",
      "text/plain": [
       "<Figure size 800x400 with 1 Axes>"
      ]
     },
     "metadata": {},
     "output_type": "display_data"
    }
   ],
   "source": [
    "print (\"Only 30% of the students completed the test preparation course\")\n",
    "plt.figure(figsize=(8,4), dpi=100)\n",
    "plt.title(\"Test Preparation\")\n",
    "sns.countplot(students[\"test preparation course\"])"
   ]
  },
  {
   "cell_type": "code",
   "execution_count": 20,
   "metadata": {},
   "outputs": [
    {
     "name": "stdout",
     "output_type": "stream",
     "text": [
      "Most students getting above 65 for math\n"
     ]
    },
    {
     "data": {
      "text/plain": [
       "count    1000.00000\n",
       "mean       66.08900\n",
       "std        15.16308\n",
       "min         0.00000\n",
       "25%        57.00000\n",
       "50%        66.00000\n",
       "75%        77.00000\n",
       "max       100.00000\n",
       "Name: math score, dtype: float64"
      ]
     },
     "execution_count": 20,
     "metadata": {},
     "output_type": "execute_result"
    },
    {
     "data": {
      "image/png": "[encoded data removed]",
      "text/plain": [
       "<Figure size 720x432 with 1 Axes>"
      ]
     },
     "metadata": {},
     "output_type": "display_data"
    }
   ],
   "source": [
    "print(\"Most students getting above 65 for math\")\n",
    "plt.xlabel(\"Scores\")\n",
    "plt.ylabel(\"Count\")\n",
    "plt.title(\"Math Score\")\n",
    "students[\"math score\"].hist(bins=50, figsize=(10,6))\n",
    "students[\"math score\"].describe()"
   ]
  },
  {
   "cell_type": "code",
   "execution_count": 21,
   "metadata": {},
   "outputs": [
    {
     "name": "stdout",
     "output_type": "stream",
     "text": [
      "Most students getting close to 80 for reading\n"
     ]
    },
    {
     "data": {
      "text/plain": [
       "count    1000.000000\n",
       "mean       69.169000\n",
       "std        14.600192\n",
       "min        17.000000\n",
       "25%        59.000000\n",
       "50%        70.000000\n",
       "75%        79.000000\n",
       "max       100.000000\n",
       "Name: reading score, dtype: float64"
      ]
     },
     "execution_count": 21,
     "metadata": {},
     "output_type": "execute_result"
    },
    {
     "data": {
      "image/png": "[encoded data removed]",
      "text/plain": [
       "<Figure size 720x432 with 1 Axes>"
      ]
     },
     "metadata": {},
     "output_type": "display_data"
    }
   ],
   "source": [
    "print(\"Most students getting close to 80 for reading\")\n",
    "plt.xlabel(\"Scores\")\n",
    "plt.ylabel(\"Count\")\n",
    "plt.title(\"Reading Score\")\n",
    "students[\"reading score\"].hist(bins=50, figsize=(10,6))\n",
    "students[\"reading score\"].describe()"
   ]
  },
  {
   "cell_type": "code",
   "execution_count": 22,
   "metadata": {},
   "outputs": [
    {
     "name": "stdout",
     "output_type": "stream",
     "text": [
      "Most students getting close to 80 for writing\n"
     ]
    },
    {
     "data": {
      "text/plain": [
       "count    1000.000000\n",
       "mean       68.054000\n",
       "std        15.195657\n",
       "min        10.000000\n",
       "25%        57.750000\n",
       "50%        69.000000\n",
       "75%        79.000000\n",
       "max       100.000000\n",
       "Name: writing score, dtype: float64"
      ]
     },
     "execution_count": 22,
     "metadata": {},
     "output_type": "execute_result"
    },
    {
     "data": {
      "image/png": "[encoded data removed]",
      "text/plain": [
       "<Figure size 720x432 with 1 Axes>"
      ]
     },
     "metadata": {},
     "output_type": "display_data"
    }
   ],
   "source": [
    "print(\"Most students getting close to 80 for writing\")\n",
    "plt.xlabel(\"Scores\")\n",
    "plt.ylabel(\"Count\")\n",
    "plt.title(\"Writing Score\")\n",
    "students[\"writing score\"].hist(bins=50, figsize=(10,6))\n",
    "students[\"writing score\"].describe()\n",
    "\n",
    "#Overall seems students do quite well in reading and writing than maths"
   ]
  },
  {
   "cell_type": "markdown",
   "metadata": {},
   "source": [
    "4. Checking for Correlations in the dataset"
   ]
  },
  {
   "cell_type": "code",
   "execution_count": 23,
   "metadata": {},
   "outputs": [
    {
     "name": "stdout",
     "output_type": "stream",
     "text": [
      "Very strong correlation between reading and writing score.\n"
     ]
    },
    {
     "data": {
      "text/plain": [
       "<matplotlib.axes._subplots.AxesSubplot at 0x223774e8988>"
      ]
     },
     "execution_count": 23,
     "metadata": {},
     "output_type": "execute_result"
    },
    {
     "data": {
      "image/png": "[encoded data removed]",
      "text/plain": [
       "<Figure size 432x288 with 2 Axes>"
      ]
     },
     "metadata": {},
     "output_type": "display_data"
    }
   ],
   "source": [
    "print(\"Very strong correlation between reading and writing score.\")\n",
    "plt.title(\"Correlation between subjects\")\n",
    "sns.heatmap(students.corr(), annot=True,cmap=\"coolwarm\")"
   ]
  },
  {
   "cell_type": "markdown",
   "metadata": {},
   "source": [
    "# Overall Verdicts So far"
   ]
  },
  {
   "cell_type": "markdown",
   "metadata": {},
   "source": [
    "1. Students for Ethnic Group E seem to be the most intelligent as they have the highest average score for all subjects.\n",
    "2. Students with parents having Masters Degrees have the highest average score for all subjects.\n",
    "3. Females score better averages in reading and writing.\n",
    "4. Males have a better averages in Math.\n",
    "5. Students with standard meals have better averages than students with reduced meals.\n",
    "6. Group C constitutes the most students in the database.\n",
    "7. Males and females in the dataset are almost equal: no significant difference with females being slightly above.\n",
    "8. Only 30% of the students completed the test preparation course.\n",
    "9. Parents with half-completed and associate degree constitutes more the dataset, while parents with Masters degree are the lowest in the dataset.\n",
    "10. Overall students performed better in reading and writing compared to math.\n",
    "11. A strong correlation was observed between the reading and writing score."
   ]
  },
  {
   "cell_type": "markdown",
   "metadata": {},
   "source": [
    "# Ongoing Project: Work in Progress"
   ]
  }
 ],
 "metadata": {
  "kernelspec": {
   "display_name": "Python 3",
   "language": "python",
   "name": "python3"
  },
  "language_info": {
   "codemirror_mode": {
    "name": "ipython",
    "version": 3
   },
   "file_extension": ".py",
   "mimetype": "text/x-python",
   "name": "python",
   "nbconvert_exporter": "python",
   "pygments_lexer": "ipython3",
   "version": "3.7.6"
  }
 },
 "nbformat": 4,
 "nbformat_minor": 4
}
